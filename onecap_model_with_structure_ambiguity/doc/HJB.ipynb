{
 "cells": [
  {
   "cell_type": "markdown",
   "metadata": {},
   "source": [
    "# HJB Equation\n",
    "\n",
    "\\begin{aligned}\n",
    "& 0=\\max _{i}\\min_s\\left\\{\\left(\\frac{\\delta}{1-\\rho}\\right)\\left(c^{1-\\rho} \\exp [(\\rho-1) v]-1\\right)\\right. \\\\\n",
    "& +\\left[\\frac{I_t}{K_t}-\\phi\\left(\\frac{I_t}{K_t}\\right)+\\alpha_k + \\beta_k z - \\frac{|\\sigma_k|^2}{2} \\right]+\\sigma_k\\cdot s \\\\\n",
    "& + \\frac{d v}{d z}\\left[-\\beta_z(z-\\bar{z})+\\sigma_z \\cdot s\\right] +\\frac{1}{2} \\left|\\sigma_z\\right|^2 \\frac{d^2 v}{d z^2}\\\\\n",
    "& \\left.+\\frac{(1-\\gamma) }{2}\\left| \\sigma_k+\\sigma_z^{\\prime} \\frac{\\partial v}{\\partial z}\\right|^2\\right\\},\n",
    "\\end{aligned}\n"
   ]
  },
  {
   "cell_type": "markdown",
   "metadata": {},
   "source": [
    "\n",
    "subject to\n",
    "\n",
    "$$\n",
    "\\left[\\rho_1+\\rho_2(z-\\bar{z})\\right]\\left[-\\beta_z(z-\\bar{z})+\\sigma_z \\cdot s\\right]+\\frac{\\left|\\sigma_z\\right|^2}{2} \\rho_2-\\frac{q^2}{2}+\\frac{s \\cdot s}{2} \\leqslant 0\n",
    "$$\n",
    "\n",
    "\\begin{aligned}\n",
    "c & =\\alpha -i \n",
    "\\end{aligned}"
   ]
  },
  {
   "cell_type": "markdown",
   "metadata": {},
   "source": [
    "# State Evolution Equation\n",
    "\n",
    "\n",
    "\\begin{aligned}\n",
    "d \\log K_t & =\\left[{\\alpha}_k+{\\beta}_k Z_t+\\frac{I_t}{K_t}-\\phi\\left(\\frac{I_t}{K_t}\\right)-\\frac{\\left|\\sigma_k\\right|^2}{2}\\right] d t+\\sigma_k \\cdot d W_t \\\\\n",
    "d Z_t & =\\left(-{\\beta}_z \\left(z - \\bar{z}\\right)\\right) d t+\\sigma_z \\cdot d W_t .\n",
    "\\end{aligned}\n",
    "\n"
   ]
  },
  {
   "cell_type": "markdown",
   "metadata": {},
   "source": [
    "# First Order Conditions\n",
    "\n",
    "\\begin{aligned}\n",
    "\\delta \\exp [(\\rho-1) v] (\\alpha-i )^{-\\rho}=1-\\phi i\n",
    "\\end{aligned}"
   ]
  },
  {
   "cell_type": "markdown",
   "metadata": {},
   "source": [
    "\n",
    "\n",
    "#  Karush-Kuhn-Tucker Conditions\n",
    "\n",
    "$$\n",
    "\\begin{array}{ll}\n",
    "\\operatorname{minimize} & f(s) \\\\\n",
    "\\text { subject to } & g(s) \\leq 0\n",
    "\\end{array}\n",
    "$$\n",
    "\n",
    "1. Stationarity:\n",
    "\n",
    "$$\n",
    "\\nabla f(s)+\\lambda \\nabla g(s)=0\n",
    "$$\n",
    "\n",
    "2. Primal feasibility:\n",
    "\n",
    "$$\n",
    "g(s) \\leq 0\n",
    "$$\n",
    "\n",
    "3. Dual feasibility:\n",
    "\n",
    "$$\n",
    "\\lambda \\geq 0\n",
    "$$\n",
    "\n",
    "4. Complementary slackness:\n",
    "\n",
    "$$\n",
    "\\lambda g(s)=0\n",
    "$$\n"
   ]
  },
  {
   "cell_type": "markdown",
   "metadata": {},
   "source": [
    "Stationary:\n",
    "$$\n",
    "\\sigma_{k1}+\\frac{\\partial v}{\\partial z}\\sigma_{z1} +\\lambda\\left[\\rho_1+\\rho_2(z-\\bar{z})\\right]\\sigma_{z1}+\\lambda s_1=0\n",
    "$$\n",
    "\n",
    "$$\n",
    "\\sigma_{k2}+\\frac{\\partial v}{\\partial z}\\sigma_{z2} +\\lambda\\left[\\rho_1+\\rho_2(z-\\bar{z})\\right]\\sigma_{z2}+\\lambda s_2=0\n",
    "$$\n",
    "\n",
    "\n",
    "- which implies\n",
    "\n",
    "$$\n",
    "\\begin{aligned}\n",
    "s_1 &= -\\frac{1}{\\lambda}(\\sigma_{k1}+\\sigma_{z1}\\frac{dv}{dz})-\\left[\\rho_1+\\rho_2(z-\\bar{z})\\right]\\sigma_{z1}\\\\\n",
    "&=-\\frac{1}{\\lambda}{A_1}-{C_1}\n",
    "\\end{aligned}\n",
    "$$\n",
    "\n",
    "$$\n",
    "\\begin{aligned}\n",
    "s_2&=-\\frac{1}{\\lambda}(\\sigma_{k2}+\\sigma_{z2}\\frac{dv}{dz})-\\left[\\rho_1+\\rho_2(z-\\bar{z})\\right]\\sigma_{z2}\\\\\n",
    "&=-\\frac{1}{\\lambda}{A_2}-{C_2}\n",
    "\\end{aligned}\n",
    "$$"
   ]
  },
  {
   "cell_type": "markdown",
   "metadata": {},
   "source": [
    "# Lagrange multiplier\n",
    "\n",
    "The maximization over Lagrange multiplier implies\n",
    "$$\n",
    "g(s)=0\n",
    "$$\n"
   ]
  },
  {
   "cell_type": "markdown",
   "metadata": {},
   "source": [
    "$$\n",
    "\\left[\\rho_1+\\rho_2(z-\\bar{z})\\right]\\left[-\\beta_z(z-\\bar{z})+\\sigma_z \\cdot s\\right]+\\frac{\\left|\\sigma_z\\right|^2}{2} \\rho_2-\\frac{q^2}{2}+\\frac{s \\cdot s}{2} = 0\n",
    "$$\n"
   ]
  },
  {
   "cell_type": "markdown",
   "metadata": {},
   "source": [
    "- Subsitute ${s}$ with $\\lambda$\n",
    "$$\n",
    "\\begin{aligned}\n",
    "0=&-\\beta_z(z-\\bar{z})\\left[\\rho_1+\\rho_2(z-\\bar{z})\\right]+\\frac{\\left|\\sigma_z\\right|^2}{2} \\rho_2-\\frac{q^2}{2}\\\\\n",
    "\n",
    "&-\\left[\\rho_1+\\rho_2(z-\\bar{z})\\right] \\left[ \\frac{1}{\\lambda} \\left( \\sigma_{z1} {A_1} + \\sigma_{z2} {A_2} \\right) + \\left(\\sigma_{z1} {C_1} + \\sigma_{z2} {C_2}\\right) \\right] \\\\\n",
    "\n",
    "% &-\\frac{1}{\\lambda}\\left[\\rho_1+\\rho_2(z-\\bar{z})\\right]\\sqrt{z_2}\\sigma_{z1} {A_1}-\\frac{1}{\\lambda}\\left[\\rho_1+\\rho_2(z-\\bar{z})\\right]\\sqrt{z_2}\\sigma_{z2} {A_2}-\\frac{1}{\\lambda}\\left[\\rho_1+\\rho_2(z-\\bar{z})\\right]\\sqrt{z_2}\\sigma_{z3} {A_3}\\\\\n",
    "% &-\\left[\\rho_1+\\rho_2(z-\\bar{z})\\right]\\sqrt{z_2}\\sigma_{z1} {C_1}-\\left[\\rho_1+\\rho_2(z-\\bar{z})\\right]\\sqrt{z_2}\\sigma_{z2}{C_2}-\\left[\\rho_1+\\rho_2(z-\\bar{z})\\right]\\sqrt{z_2}\\sigma_{z3} {C_3}\\\\\n",
    "&+\\frac{1}{2\\lambda^2}({A^2_1}+{A^2_2})+\\frac{{C_1^2+C_2^2}}{2}+\\frac{1}{\\lambda}({A_1}{C_1}+{A_2}{C_2})\n",
    "\\end{aligned}\n",
    "$$"
   ]
  },
  {
   "cell_type": "markdown",
   "metadata": {},
   "source": [
    "- where\n",
    "$$\n",
    "AA=\\frac{{A^2_1}+{A^2_2}}{2}\n",
    "$$\n",
    "\n",
    "$$\n",
    "BB = ({A_1}{C_1}+{A_2}{C_2})-\\left[\\rho_1+\\rho_2(z-\\bar{z})\\right]\\sqrt{z_2}(\\sigma_{z1} {A_1}+\\sigma_{z2} {A_2})\n",
    "$$\n",
    "\n",
    "$$\n",
    "\\begin{aligned}\n",
    "CC=&-\\beta_z(z-\\bar{z})\\left[\\rho_1+\\rho_2(z-\\bar{z})\\right]+z_2\\frac{\\left|\\sigma_z\\right|^2}{2} \\rho_2-\\frac{q^2}{2}\\\\\n",
    "&-\\left[\\rho_1+\\rho_2(z-\\bar{z})\\right]\\sqrt{z_2}(\\sigma_{z1} {C_1}+\\sigma_{z2} {C_2})\\\\\n",
    "&+\\frac{{C_1^2+C_2^2}}{2}\n",
    "\\end{aligned}\n",
    "$$"
   ]
  },
  {
   "cell_type": "markdown",
   "metadata": {},
   "source": []
  }
 ],
 "metadata": {
  "kernelspec": {
   "display_name": "Python 3",
   "language": "python",
   "name": "python3"
  },
  "language_info": {
   "codemirror_mode": {
    "name": "ipython",
    "version": 3
   },
   "file_extension": ".py",
   "mimetype": "text/x-python",
   "name": "python",
   "nbconvert_exporter": "python",
   "pygments_lexer": "ipython3",
   "version": "3.8.5"
  }
 },
 "nbformat": 4,
 "nbformat_minor": 2
}
